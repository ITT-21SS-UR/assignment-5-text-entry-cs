{
 "cells": [
  {
   "cell_type": "markdown",
   "metadata": {},
   "source": [
    "# Key Input Technique Study\n",
    "### Author: Sarah"
   ]
  },
  {
   "cell_type": "markdown",
   "metadata": {},
   "source": [
    "## Structured Analysis\n",
    "### Import all relevant libraries"
   ]
  },
  {
   "cell_type": "code",
   "execution_count": 1,
   "metadata": {},
   "outputs": [
    {
     "name": "stdout",
     "output_type": "stream",
     "text": [
      "Requirement already satisfied: pingouin in /home/sarah/.local/lib/python3.9/site-packages (0.3.11)\n",
      "Requirement already satisfied: pandas-flavor>=0.1.2 in /home/sarah/.local/lib/python3.9/site-packages (from pingouin) (0.2.0)\n",
      "Requirement already satisfied: statsmodels>=0.10.0 in /home/sarah/.local/lib/python3.9/site-packages (from pingouin) (0.12.2)\n",
      "Requirement already satisfied: tabulate in /home/sarah/.local/lib/python3.9/site-packages (from pingouin) (0.8.9)\n",
      "Requirement already satisfied: matplotlib>=3.0.2 in /usr/lib/python3/dist-packages (from pingouin) (3.3.4)\n",
      "Requirement already satisfied: pandas>=0.24 in /usr/lib/python3/dist-packages (from pingouin) (1.1.5)\n",
      "Requirement already satisfied: seaborn>=0.9.0 in /home/sarah/.local/lib/python3.9/site-packages (from pingouin) (0.11.1)\n",
      "Requirement already satisfied: scikit-learn in /usr/lib/python3/dist-packages (from pingouin) (0.23.2)\n",
      "Requirement already satisfied: numpy>=1.15 in /usr/lib/python3/dist-packages (from pingouin) (1.19.5)\n",
      "Requirement already satisfied: scipy>=1.3 in /usr/lib/python3/dist-packages (from pingouin) (1.6.0)\n",
      "Requirement already satisfied: outdated in /home/sarah/.local/lib/python3.9/site-packages (from pingouin) (0.2.1)\n",
      "Requirement already satisfied: xarray in /home/sarah/.local/lib/python3.9/site-packages (from pandas-flavor>=0.1.2->pingouin) (0.17.0)\n",
      "Requirement already satisfied: patsy>=0.5 in /home/sarah/.local/lib/python3.9/site-packages (from statsmodels>=0.10.0->pingouin) (0.5.1)\n",
      "Requirement already satisfied: six in /usr/lib/python3/dist-packages (from patsy>=0.5->statsmodels>=0.10.0->pingouin) (1.15.0)\n",
      "Requirement already satisfied: requests in /usr/lib/python3/dist-packages (from outdated->pingouin) (2.25.1)\n",
      "Requirement already satisfied: littleutils in /home/sarah/.local/lib/python3.9/site-packages (from outdated->pingouin) (0.2.2)\n",
      "Requirement already satisfied: setuptools>=40.4 in /usr/lib/python3/dist-packages (from xarray->pandas-flavor>=0.1.2->pingouin) (52.0.0)\n"
     ]
    }
   ],
   "source": [
    "!pip3 install pingouin"
   ]
  },
  {
   "cell_type": "code",
   "execution_count": 2,
   "metadata": {},
   "outputs": [],
   "source": [
    "import pandas as pd\n",
    "import pingouin as pg\n",
    "import seaborn as sns\n",
    "from matplotlib import pyplot as plt"
   ]
  },
  {
   "cell_type": "markdown",
   "metadata": {},
   "source": [
    "### Read csv file"
   ]
  },
  {
   "cell_type": "code",
   "execution_count": 3,
   "metadata": {
    "scrolled": false
   },
   "outputs": [],
   "source": [
    "raw_data_test = pd.read_csv(\"./test.csv\")\n",
    "# raw_data_1_1_normal = pd.read_csv(\"./1_1_normal.csv\")\n",
    "# raw_data_1_2_novel = pd.read_csv(\"./1_2_novel.csv\")\n",
    "# raw_data_2_1_novel = pd.read_csv(\"./2_1_novel.csv\")\n",
    "# raw_data_2_2_normal = pd.read_csv(\"./2_2_normal.csv\")\n",
    "# raw_data_3_1_novel = pd.read_csv(\"./3_1_novel.csv\")\n",
    "# raw_data_3_2_normal = pd.read_csv(\"./3_2_normal.csv\")\n",
    "# raw_data_4_1_normal = pd.read_csv(\"./4_1_normal.csv\")\n",
    "# raw_data_4_2_novel = pd.read_csv(\"./4_2_novel.csv\")"
   ]
  },
  {
   "cell_type": "markdown",
   "metadata": {},
   "source": [
    "### Combine the individual tables of the participants and save them"
   ]
  },
  {
   "cell_type": "code",
   "execution_count": 4,
   "metadata": {},
   "outputs": [
    {
     "ename": "NameError",
     "evalue": "name 'raw_data_1_1_normal' is not defined",
     "output_type": "error",
     "traceback": [
      "\u001b[0;31m---------------------------------------------------------------------------\u001b[0m",
      "\u001b[0;31mNameError\u001b[0m                                 Traceback (most recent call last)",
      "\u001b[0;32m<ipython-input-4-496630f87701>\u001b[0m in \u001b[0;36m<module>\u001b[0;34m\u001b[0m\n\u001b[1;32m      1\u001b[0m normal_input_technique = pd.concat([\n\u001b[0;32m----> 2\u001b[0;31m     \u001b[0mraw_data_1_1_normal\u001b[0m\u001b[0;34m,\u001b[0m\u001b[0;34m\u001b[0m\u001b[0;34m\u001b[0m\u001b[0m\n\u001b[0m\u001b[1;32m      3\u001b[0m     \u001b[0mraw_data_2_2_normal\u001b[0m\u001b[0;34m,\u001b[0m\u001b[0;34m\u001b[0m\u001b[0;34m\u001b[0m\u001b[0m\n\u001b[1;32m      4\u001b[0m     \u001b[0mraw_data_3_2_normal\u001b[0m\u001b[0;34m,\u001b[0m\u001b[0;34m\u001b[0m\u001b[0;34m\u001b[0m\u001b[0m\n\u001b[1;32m      5\u001b[0m     \u001b[0mraw_data_4_1_normal\u001b[0m\u001b[0;34m\u001b[0m\u001b[0;34m\u001b[0m\u001b[0m\n",
      "\u001b[0;31mNameError\u001b[0m: name 'raw_data_1_1_normal' is not defined"
     ]
    }
   ],
   "source": [
    "normal_input_technique = pd.concat([\n",
    "    raw_data_1_1_normal,\n",
    "    raw_data_2_2_normal,\n",
    "    raw_data_3_2_normal,\n",
    "    raw_data_4_1_normal\n",
    "])\n",
    "\n",
    "novel_input_technique = pd.concat([\n",
    "    raw_data_1_2_novel,\n",
    "    raw_data_2_1_novel,\n",
    "    raw_data_3_1_novel,\n",
    "    raw_data_4_2_novel\n",
    "])\n",
    "\n",
    "normal_input_technique.to_csv(\"normal_input_technique_table.csv\", index=False)\n",
    "normal_input_technique.to_csv(\"novel_input_technique_table.csv\", index=False)"
   ]
  },
  {
   "cell_type": "code",
   "execution_count": 9,
   "metadata": {},
   "outputs": [
    {
     "data": {
      "text/html": [
       "<div>\n",
       "<style scoped>\n",
       "    .dataframe tbody tr th:only-of-type {\n",
       "        vertical-align: middle;\n",
       "    }\n",
       "\n",
       "    .dataframe tbody tr th {\n",
       "        vertical-align: top;\n",
       "    }\n",
       "\n",
       "    .dataframe thead th {\n",
       "        text-align: right;\n",
       "    }\n",
       "</style>\n",
       "<table border=\"1\" class=\"dataframe\">\n",
       "  <thead>\n",
       "    <tr style=\"text-align: right;\">\n",
       "      <th></th>\n",
       "      <th>log_type</th>\n",
       "      <th>participant_id</th>\n",
       "      <th>keyboard_type</th>\n",
       "      <th>key_code</th>\n",
       "      <th>key_value</th>\n",
       "      <th>content</th>\n",
       "      <th>timestamp</th>\n",
       "      <th>word_time_in_s</th>\n",
       "      <th>sentence_time_in_s</th>\n",
       "      <th>words_per_minute</th>\n",
       "    </tr>\n",
       "  </thead>\n",
       "  <tbody>\n",
       "    <tr>\n",
       "      <th>0</th>\n",
       "      <td>key_pressed</td>\n",
       "      <td>1</td>\n",
       "      <td>auto_complete</td>\n",
       "      <td>73</td>\n",
       "      <td>I</td>\n",
       "      <td>I</td>\n",
       "      <td>2021-05-17 09:50:19.062180</td>\n",
       "      <td>NaN</td>\n",
       "      <td>NaN</td>\n",
       "      <td>14814.814815</td>\n",
       "    </tr>\n",
       "    <tr>\n",
       "      <th>1</th>\n",
       "      <td>key_pressed</td>\n",
       "      <td>1</td>\n",
       "      <td>auto_complete</td>\n",
       "      <td>67</td>\n",
       "      <td>c</td>\n",
       "      <td>Ic</td>\n",
       "      <td>2021-05-17 09:50:19.293458</td>\n",
       "      <td>NaN</td>\n",
       "      <td>NaN</td>\n",
       "      <td>103.455857</td>\n",
       "    </tr>\n",
       "    <tr>\n",
       "      <th>2</th>\n",
       "      <td>key_pressed</td>\n",
       "      <td>1</td>\n",
       "      <td>auto_complete</td>\n",
       "      <td>72</td>\n",
       "      <td>h</td>\n",
       "      <td>Ich</td>\n",
       "      <td>2021-05-17 09:50:19.410419</td>\n",
       "      <td>NaN</td>\n",
       "      <td>NaN</td>\n",
       "      <td>103.174626</td>\n",
       "    </tr>\n",
       "    <tr>\n",
       "      <th>3</th>\n",
       "      <td>word_finished</td>\n",
       "      <td>1</td>\n",
       "      <td>auto_complete</td>\n",
       "      <td>32</td>\n",
       "      <td></td>\n",
       "      <td>Ich</td>\n",
       "      <td>2021-05-17 09:50:19.662643</td>\n",
       "      <td>0.600593</td>\n",
       "      <td>NaN</td>\n",
       "      <td>59.884622</td>\n",
       "    </tr>\n",
       "    <tr>\n",
       "      <th>4</th>\n",
       "      <td>key_pressed</td>\n",
       "      <td>1</td>\n",
       "      <td>auto_complete</td>\n",
       "      <td>66</td>\n",
       "      <td>b</td>\n",
       "      <td>Ich b</td>\n",
       "      <td>2021-05-17 09:50:20.109408</td>\n",
       "      <td>NaN</td>\n",
       "      <td>NaN</td>\n",
       "      <td>45.804805</td>\n",
       "    </tr>\n",
       "    <tr>\n",
       "      <th>...</th>\n",
       "      <td>...</td>\n",
       "      <td>...</td>\n",
       "      <td>...</td>\n",
       "      <td>...</td>\n",
       "      <td>...</td>\n",
       "      <td>...</td>\n",
       "      <td>...</td>\n",
       "      <td>...</td>\n",
       "      <td>...</td>\n",
       "      <td>...</td>\n",
       "    </tr>\n",
       "    <tr>\n",
       "      <th>62</th>\n",
       "      <td>word_finished</td>\n",
       "      <td>1</td>\n",
       "      <td>auto_complete</td>\n",
       "      <td>32</td>\n",
       "      <td></td>\n",
       "      <td>Der dritte Satz und dannist</td>\n",
       "      <td>2021-05-17 09:50:43.647182</td>\n",
       "      <td>3.289283</td>\n",
       "      <td>NaN</td>\n",
       "      <td>29.773425</td>\n",
       "    </tr>\n",
       "    <tr>\n",
       "      <th>63</th>\n",
       "      <td>key_pressed</td>\n",
       "      <td>1</td>\n",
       "      <td>auto_complete</td>\n",
       "      <td>69</td>\n",
       "      <td>E</td>\n",
       "      <td>Der dritte Satz und dannist E</td>\n",
       "      <td>2021-05-17 09:50:43.994711</td>\n",
       "      <td>NaN</td>\n",
       "      <td>NaN</td>\n",
       "      <td>29.839699</td>\n",
       "    </tr>\n",
       "    <tr>\n",
       "      <th>64</th>\n",
       "      <td>key_pressed</td>\n",
       "      <td>1</td>\n",
       "      <td>auto_complete</td>\n",
       "      <td>78</td>\n",
       "      <td>n</td>\n",
       "      <td>Der dritte Satz und dannist En</td>\n",
       "      <td>2021-05-17 09:50:44.143018</td>\n",
       "      <td>NaN</td>\n",
       "      <td>NaN</td>\n",
       "      <td>30.141711</td>\n",
       "    </tr>\n",
       "    <tr>\n",
       "      <th>65</th>\n",
       "      <td>key_pressed</td>\n",
       "      <td>1</td>\n",
       "      <td>auto_complete</td>\n",
       "      <td>68</td>\n",
       "      <td>d</td>\n",
       "      <td>Der dritte Satz und dannist End</td>\n",
       "      <td>2021-05-17 09:50:44.682129</td>\n",
       "      <td>NaN</td>\n",
       "      <td>NaN</td>\n",
       "      <td>29.975809</td>\n",
       "    </tr>\n",
       "    <tr>\n",
       "      <th>66</th>\n",
       "      <td>test_finished</td>\n",
       "      <td>1</td>\n",
       "      <td>auto_complete</td>\n",
       "      <td>16777220</td>\n",
       "      <td>&lt;RETURN&gt;</td>\n",
       "      <td>Der dritte Satz und dannist Ende</td>\n",
       "      <td>2021-05-17 09:50:46.627605</td>\n",
       "      <td>2.632835</td>\n",
       "      <td>13.326508</td>\n",
       "      <td>28.295599</td>\n",
       "    </tr>\n",
       "  </tbody>\n",
       "</table>\n",
       "<p>67 rows × 10 columns</p>\n",
       "</div>"
      ],
      "text/plain": [
       "         log_type  participant_id  keyboard_type  key_code key_value  \\\n",
       "0     key_pressed               1  auto_complete        73         I   \n",
       "1     key_pressed               1  auto_complete        67         c   \n",
       "2     key_pressed               1  auto_complete        72         h   \n",
       "3   word_finished               1  auto_complete        32             \n",
       "4     key_pressed               1  auto_complete        66         b   \n",
       "..            ...             ...            ...       ...       ...   \n",
       "62  word_finished               1  auto_complete        32             \n",
       "63    key_pressed               1  auto_complete        69         E   \n",
       "64    key_pressed               1  auto_complete        78         n   \n",
       "65    key_pressed               1  auto_complete        68         d   \n",
       "66  test_finished               1  auto_complete  16777220  <RETURN>   \n",
       "\n",
       "                             content                   timestamp  \\\n",
       "0                                  I  2021-05-17 09:50:19.062180   \n",
       "1                                 Ic  2021-05-17 09:50:19.293458   \n",
       "2                                Ich  2021-05-17 09:50:19.410419   \n",
       "3                                Ich  2021-05-17 09:50:19.662643   \n",
       "4                              Ich b  2021-05-17 09:50:20.109408   \n",
       "..                               ...                         ...   \n",
       "62       Der dritte Satz und dannist  2021-05-17 09:50:43.647182   \n",
       "63     Der dritte Satz und dannist E  2021-05-17 09:50:43.994711   \n",
       "64    Der dritte Satz und dannist En  2021-05-17 09:50:44.143018   \n",
       "65   Der dritte Satz und dannist End  2021-05-17 09:50:44.682129   \n",
       "66  Der dritte Satz und dannist Ende  2021-05-17 09:50:46.627605   \n",
       "\n",
       "    word_time_in_s  sentence_time_in_s  words_per_minute  \n",
       "0              NaN                 NaN      14814.814815  \n",
       "1              NaN                 NaN        103.455857  \n",
       "2              NaN                 NaN        103.174626  \n",
       "3         0.600593                 NaN         59.884622  \n",
       "4              NaN                 NaN         45.804805  \n",
       "..             ...                 ...               ...  \n",
       "62        3.289283                 NaN         29.773425  \n",
       "63             NaN                 NaN         29.839699  \n",
       "64             NaN                 NaN         30.141711  \n",
       "65             NaN                 NaN         29.975809  \n",
       "66        2.632835           13.326508         28.295599  \n",
       "\n",
       "[67 rows x 10 columns]"
      ]
     },
     "execution_count": 9,
     "metadata": {},
     "output_type": "execute_result"
    }
   ],
   "source": [
    "raw_data_test"
   ]
  },
  {
   "cell_type": "code",
   "execution_count": 10,
   "metadata": {},
   "outputs": [],
   "source": [
    "# normal_input_technique"
   ]
  },
  {
   "cell_type": "code",
   "execution_count": 11,
   "metadata": {},
   "outputs": [],
   "source": [
    "# novel_input_technique"
   ]
  },
  {
   "cell_type": "code",
   "execution_count": 12,
   "metadata": {},
   "outputs": [
    {
     "ename": "NameError",
     "evalue": "name 'normal_input_technique' is not defined",
     "output_type": "error",
     "traceback": [
      "\u001b[0;31m---------------------------------------------------------------------------\u001b[0m",
      "\u001b[0;31mNameError\u001b[0m                                 Traceback (most recent call last)",
      "\u001b[0;32m<ipython-input-12-c43e7d740fed>\u001b[0m in \u001b[0;36m<module>\u001b[0;34m\u001b[0m\n\u001b[1;32m      1\u001b[0m \u001b[0;31m# whole data set\u001b[0m\u001b[0;34m\u001b[0m\u001b[0;34m\u001b[0m\u001b[0;34m\u001b[0m\u001b[0m\n\u001b[1;32m      2\u001b[0m input_technique_table = pd.concat([\n\u001b[0;32m----> 3\u001b[0;31m     \u001b[0mnormal_input_technique\u001b[0m\u001b[0;34m,\u001b[0m\u001b[0;34m\u001b[0m\u001b[0;34m\u001b[0m\u001b[0m\n\u001b[0m\u001b[1;32m      4\u001b[0m     \u001b[0mnovel_input_technique\u001b[0m\u001b[0;34m\u001b[0m\u001b[0;34m\u001b[0m\u001b[0m\n\u001b[1;32m      5\u001b[0m ])\n",
      "\u001b[0;31mNameError\u001b[0m: name 'normal_input_technique' is not defined"
     ]
    }
   ],
   "source": [
    "# whole data set\n",
    "input_technique_table = pd.concat([\n",
    "    normal_input_technique,\n",
    "    novel_input_technique\n",
    "])\n",
    "\n",
    "pointing_technique_table"
   ]
  },
  {
   "cell_type": "markdown",
   "metadata": {},
   "source": [
    "### Filter the data with relevant columns for analysis of task completion time and save the result"
   ]
  },
  {
   "cell_type": "code",
   "execution_count": 13,
   "metadata": {
    "scrolled": true
   },
   "outputs": [
    {
     "data": {
      "text/html": [
       "<div>\n",
       "<style scoped>\n",
       "    .dataframe tbody tr th:only-of-type {\n",
       "        vertical-align: middle;\n",
       "    }\n",
       "\n",
       "    .dataframe tbody tr th {\n",
       "        vertical-align: top;\n",
       "    }\n",
       "\n",
       "    .dataframe thead th {\n",
       "        text-align: right;\n",
       "    }\n",
       "</style>\n",
       "<table border=\"1\" class=\"dataframe\">\n",
       "  <thead>\n",
       "    <tr style=\"text-align: right;\">\n",
       "      <th></th>\n",
       "      <th>log_type</th>\n",
       "      <th>participant_id</th>\n",
       "      <th>keyboard_type</th>\n",
       "      <th>content</th>\n",
       "      <th>sentence_time_in_s</th>\n",
       "      <th>words_per_minute</th>\n",
       "    </tr>\n",
       "  </thead>\n",
       "  <tbody>\n",
       "    <tr>\n",
       "      <th>0</th>\n",
       "      <td>key_pressed</td>\n",
       "      <td>1</td>\n",
       "      <td>auto_complete</td>\n",
       "      <td>I</td>\n",
       "      <td>NaN</td>\n",
       "      <td>14814.814815</td>\n",
       "    </tr>\n",
       "    <tr>\n",
       "      <th>1</th>\n",
       "      <td>key_pressed</td>\n",
       "      <td>1</td>\n",
       "      <td>auto_complete</td>\n",
       "      <td>Ic</td>\n",
       "      <td>NaN</td>\n",
       "      <td>103.455857</td>\n",
       "    </tr>\n",
       "    <tr>\n",
       "      <th>2</th>\n",
       "      <td>key_pressed</td>\n",
       "      <td>1</td>\n",
       "      <td>auto_complete</td>\n",
       "      <td>Ich</td>\n",
       "      <td>NaN</td>\n",
       "      <td>103.174626</td>\n",
       "    </tr>\n",
       "    <tr>\n",
       "      <th>3</th>\n",
       "      <td>word_finished</td>\n",
       "      <td>1</td>\n",
       "      <td>auto_complete</td>\n",
       "      <td>Ich</td>\n",
       "      <td>NaN</td>\n",
       "      <td>59.884622</td>\n",
       "    </tr>\n",
       "    <tr>\n",
       "      <th>4</th>\n",
       "      <td>key_pressed</td>\n",
       "      <td>1</td>\n",
       "      <td>auto_complete</td>\n",
       "      <td>Ich b</td>\n",
       "      <td>NaN</td>\n",
       "      <td>45.804805</td>\n",
       "    </tr>\n",
       "    <tr>\n",
       "      <th>...</th>\n",
       "      <td>...</td>\n",
       "      <td>...</td>\n",
       "      <td>...</td>\n",
       "      <td>...</td>\n",
       "      <td>...</td>\n",
       "      <td>...</td>\n",
       "    </tr>\n",
       "    <tr>\n",
       "      <th>62</th>\n",
       "      <td>word_finished</td>\n",
       "      <td>1</td>\n",
       "      <td>auto_complete</td>\n",
       "      <td>Der dritte Satz und dannist</td>\n",
       "      <td>NaN</td>\n",
       "      <td>29.773425</td>\n",
       "    </tr>\n",
       "    <tr>\n",
       "      <th>63</th>\n",
       "      <td>key_pressed</td>\n",
       "      <td>1</td>\n",
       "      <td>auto_complete</td>\n",
       "      <td>Der dritte Satz und dannist E</td>\n",
       "      <td>NaN</td>\n",
       "      <td>29.839699</td>\n",
       "    </tr>\n",
       "    <tr>\n",
       "      <th>64</th>\n",
       "      <td>key_pressed</td>\n",
       "      <td>1</td>\n",
       "      <td>auto_complete</td>\n",
       "      <td>Der dritte Satz und dannist En</td>\n",
       "      <td>NaN</td>\n",
       "      <td>30.141711</td>\n",
       "    </tr>\n",
       "    <tr>\n",
       "      <th>65</th>\n",
       "      <td>key_pressed</td>\n",
       "      <td>1</td>\n",
       "      <td>auto_complete</td>\n",
       "      <td>Der dritte Satz und dannist End</td>\n",
       "      <td>NaN</td>\n",
       "      <td>29.975809</td>\n",
       "    </tr>\n",
       "    <tr>\n",
       "      <th>66</th>\n",
       "      <td>test_finished</td>\n",
       "      <td>1</td>\n",
       "      <td>auto_complete</td>\n",
       "      <td>Der dritte Satz und dannist Ende</td>\n",
       "      <td>13.326508</td>\n",
       "      <td>28.295599</td>\n",
       "    </tr>\n",
       "  </tbody>\n",
       "</table>\n",
       "<p>67 rows × 6 columns</p>\n",
       "</div>"
      ],
      "text/plain": [
       "         log_type  participant_id  keyboard_type  \\\n",
       "0     key_pressed               1  auto_complete   \n",
       "1     key_pressed               1  auto_complete   \n",
       "2     key_pressed               1  auto_complete   \n",
       "3   word_finished               1  auto_complete   \n",
       "4     key_pressed               1  auto_complete   \n",
       "..            ...             ...            ...   \n",
       "62  word_finished               1  auto_complete   \n",
       "63    key_pressed               1  auto_complete   \n",
       "64    key_pressed               1  auto_complete   \n",
       "65    key_pressed               1  auto_complete   \n",
       "66  test_finished               1  auto_complete   \n",
       "\n",
       "                             content  sentence_time_in_s  words_per_minute  \n",
       "0                                  I                 NaN      14814.814815  \n",
       "1                                 Ic                 NaN        103.455857  \n",
       "2                                Ich                 NaN        103.174626  \n",
       "3                                Ich                 NaN         59.884622  \n",
       "4                              Ich b                 NaN         45.804805  \n",
       "..                               ...                 ...               ...  \n",
       "62       Der dritte Satz und dannist                 NaN         29.773425  \n",
       "63     Der dritte Satz und dannist E                 NaN         29.839699  \n",
       "64    Der dritte Satz und dannist En                 NaN         30.141711  \n",
       "65   Der dritte Satz und dannist End                 NaN         29.975809  \n",
       "66  Der dritte Satz und dannist Ende           13.326508         28.295599  \n",
       "\n",
       "[67 rows x 6 columns]"
      ]
     },
     "execution_count": 13,
     "metadata": {},
     "output_type": "execute_result"
    }
   ],
   "source": [
    "filtered_data = raw_data_test[\n",
    "    [\"log_type\", \"participant_id\", \"keyboard_type\", \"content\", \"sentence_time_in_s\", \"words_per_minute\"]]\n",
    "\n",
    "filtered_data.to_csv(\"filtered_data.csv\", index=False)\n",
    "\n",
    "filtered_data"
   ]
  },
  {
   "cell_type": "code",
   "execution_count": 14,
   "metadata": {},
   "outputs": [
    {
     "data": {
      "text/html": [
       "<div>\n",
       "<style scoped>\n",
       "    .dataframe tbody tr th:only-of-type {\n",
       "        vertical-align: middle;\n",
       "    }\n",
       "\n",
       "    .dataframe tbody tr th {\n",
       "        vertical-align: top;\n",
       "    }\n",
       "\n",
       "    .dataframe thead th {\n",
       "        text-align: right;\n",
       "    }\n",
       "</style>\n",
       "<table border=\"1\" class=\"dataframe\">\n",
       "  <thead>\n",
       "    <tr style=\"text-align: right;\">\n",
       "      <th></th>\n",
       "      <th>log_type</th>\n",
       "      <th>participant_id</th>\n",
       "      <th>keyboard_type</th>\n",
       "      <th>content</th>\n",
       "      <th>words_per_minute</th>\n",
       "    </tr>\n",
       "  </thead>\n",
       "  <tbody>\n",
       "    <tr>\n",
       "      <th>66</th>\n",
       "      <td>test_finished</td>\n",
       "      <td>1</td>\n",
       "      <td>auto_complete</td>\n",
       "      <td>Der dritte Satz und dannist Ende</td>\n",
       "      <td>28.295599</td>\n",
       "    </tr>\n",
       "  </tbody>\n",
       "</table>\n",
       "</div>"
      ],
      "text/plain": [
       "         log_type  participant_id  keyboard_type  \\\n",
       "66  test_finished               1  auto_complete   \n",
       "\n",
       "                             content  words_per_minute  \n",
       "66  Der dritte Satz und dannist Ende         28.295599  "
      ]
     },
     "execution_count": 14,
     "metadata": {},
     "output_type": "execute_result"
    }
   ],
   "source": [
    "words_per_minute = filtered_data[filtered_data[\"log_type\"] == \"test_finished\"]\n",
    "words_per_minute = words_per_minute[[\"log_type\", \"participant_id\", \"keyboard_type\", \"content\", \"words_per_minute\"]]\n",
    "words_per_minute"
   ]
  },
  {
   "cell_type": "code",
   "execution_count": 15,
   "metadata": {},
   "outputs": [
    {
     "data": {
      "text/html": [
       "<div>\n",
       "<style scoped>\n",
       "    .dataframe tbody tr th:only-of-type {\n",
       "        vertical-align: middle;\n",
       "    }\n",
       "\n",
       "    .dataframe tbody tr th {\n",
       "        vertical-align: top;\n",
       "    }\n",
       "\n",
       "    .dataframe thead th {\n",
       "        text-align: right;\n",
       "    }\n",
       "</style>\n",
       "<table border=\"1\" class=\"dataframe\">\n",
       "  <thead>\n",
       "    <tr style=\"text-align: right;\">\n",
       "      <th></th>\n",
       "      <th>log_type</th>\n",
       "      <th>participant_id</th>\n",
       "      <th>keyboard_type</th>\n",
       "      <th>content</th>\n",
       "      <th>sentence_time_in_s</th>\n",
       "    </tr>\n",
       "  </thead>\n",
       "  <tbody>\n",
       "    <tr>\n",
       "      <th>20</th>\n",
       "      <td>sentence_finished</td>\n",
       "      <td>1</td>\n",
       "      <td>auto_complete</td>\n",
       "      <td>Ich bin nur ein TExt</td>\n",
       "      <td>6.579231</td>\n",
       "    </tr>\n",
       "    <tr>\n",
       "      <th>36</th>\n",
       "      <td>sentence_finished</td>\n",
       "      <td>1</td>\n",
       "      <td>auto_complete</td>\n",
       "      <td>Das ist nur vorübergehend</td>\n",
       "      <td>5.794756</td>\n",
       "    </tr>\n",
       "    <tr>\n",
       "      <th>66</th>\n",
       "      <td>test_finished</td>\n",
       "      <td>1</td>\n",
       "      <td>auto_complete</td>\n",
       "      <td>Der dritte Satz und dannist Ende</td>\n",
       "      <td>13.326508</td>\n",
       "    </tr>\n",
       "  </tbody>\n",
       "</table>\n",
       "</div>"
      ],
      "text/plain": [
       "             log_type  participant_id  keyboard_type  \\\n",
       "20  sentence_finished               1  auto_complete   \n",
       "36  sentence_finished               1  auto_complete   \n",
       "66      test_finished               1  auto_complete   \n",
       "\n",
       "                             content  sentence_time_in_s  \n",
       "20              Ich bin nur ein TExt            6.579231  \n",
       "36         Das ist nur vorübergehend            5.794756  \n",
       "66  Der dritte Satz und dannist Ende           13.326508  "
      ]
     },
     "execution_count": 15,
     "metadata": {},
     "output_type": "execute_result"
    }
   ],
   "source": [
    "time_per_sentence = filtered_data[(filtered_data[\"log_type\"] == \"sentence_finished\") \n",
    "                                  | (filtered_data[\"log_type\"] == \"test_finished\")]\n",
    "time_per_sentence = time_per_sentence[[\"log_type\", \"participant_id\", \"keyboard_type\", \"content\", \"sentence_time_in_s\"]]\n",
    "time_per_sentence"
   ]
  },
  {
   "cell_type": "markdown",
   "metadata": {},
   "source": [
    "## Statistics for all tables"
   ]
  },
  {
   "cell_type": "code",
   "execution_count": 18,
   "metadata": {},
   "outputs": [],
   "source": [
    "# input_technique_table.describe()  # total"
   ]
  },
  {
   "cell_type": "code",
   "execution_count": 19,
   "metadata": {},
   "outputs": [],
   "source": [
    "# normal_input_technique.describe()  # normal pointing technique"
   ]
  },
  {
   "cell_type": "code",
   "execution_count": 20,
   "metadata": {},
   "outputs": [],
   "source": [
    "# novel_input_technique.describe()  # novel pointing technique"
   ]
  },
  {
   "cell_type": "markdown",
   "metadata": {},
   "source": [
    "## Visualizations"
   ]
  },
  {
   "cell_type": "markdown",
   "metadata": {},
   "source": [
    "### Scatter plots for task completion time"
   ]
  },
  {
   "cell_type": "code",
   "execution_count": 23,
   "metadata": {},
   "outputs": [
    {
     "data": {
      "image/png": "[encoded data removed]",
      "text/plain": [
       "<Figure size 432x288 with 1 Axes>"
      ]
     },
     "metadata": {
      "needs_background": "light"
     },
     "output_type": "display_data"
    }
   ],
   "source": [
    "scatter_plot_ids = sns.scatterplot(\n",
    "    data = words_per_minute,\n",
    "    x = \"participant_id\",\n",
    "    y = \"words_per_minute\",\n",
    ")\n",
    "scatter_plot_ids.set(xlabel = \"participant_id\", ylabel = \"words_per_minute\")\n",
    "plt.show()"
   ]
  },
  {
   "cell_type": "code",
   "execution_count": 24,
   "metadata": {},
   "outputs": [
    {
     "data": {
      "image/png": "[encoded data removed]",
      "text/plain": [
       "<Figure size 432x288 with 1 Axes>"
      ]
     },
     "metadata": {
      "needs_background": "light"
     },
     "output_type": "display_data"
    }
   ],
   "source": [
    "scatter_plot_con = sns.scatterplot(\n",
    "    data = words_per_minute,\n",
    "    x = \"keyboard_type\",\n",
    "    y = \"words_per_minute\",\n",
    ")\n",
    "scatter_plot_con.set(xlabel = \"keyboard_type\", ylabel = \"words_per_minute\")\n",
    "plt.show()"
   ]
  },
  {
   "cell_type": "code",
   "execution_count": 8,
   "metadata": {},
   "outputs": [
    {
     "ename": "NameError",
     "evalue": "name 'correct_clicksraw_data_test' is not defined",
     "output_type": "error",
     "traceback": [
      "\u001b[0;31m---------------------------------------------------------------------------\u001b[0m",
      "\u001b[0;31mNameError\u001b[0m                                 Traceback (most recent call last)",
      "\u001b[0;32m<ipython-input-8-d4b140e39fae>\u001b[0m in \u001b[0;36m<module>\u001b[0;34m\u001b[0m\n\u001b[1;32m      1\u001b[0m scatter_plot_normal_con = sns.scatterplot(\n\u001b[0;32m----> 2\u001b[0;31m     \u001b[0mdata\u001b[0m \u001b[0;34m=\u001b[0m \u001b[0mraw_data_test\u001b[0m\u001b[0;34m[\u001b[0m\u001b[0mcorrect_clicksraw_data_test\u001b[0m\u001b[0;34m[\u001b[0m\u001b[0mPOINTER_TYPE\u001b[0m\u001b[0;34m]\u001b[0m \u001b[0;34m==\u001b[0m \u001b[0mPOINTER_NORMAL\u001b[0m\u001b[0;34m]\u001b[0m\u001b[0;34m,\u001b[0m\u001b[0;34m\u001b[0m\u001b[0;34m\u001b[0m\u001b[0m\n\u001b[0m\u001b[1;32m      3\u001b[0m     \u001b[0mx\u001b[0m \u001b[0;34m=\u001b[0m \u001b[0mCONDITION\u001b[0m\u001b[0;34m,\u001b[0m\u001b[0;34m\u001b[0m\u001b[0;34m\u001b[0m\u001b[0m\n\u001b[1;32m      4\u001b[0m     \u001b[0my\u001b[0m \u001b[0;34m=\u001b[0m \u001b[0mTASK_COMPLETION_TIME\u001b[0m\u001b[0;34m,\u001b[0m\u001b[0;34m\u001b[0m\u001b[0;34m\u001b[0m\u001b[0m\n\u001b[1;32m      5\u001b[0m )\n",
      "\u001b[0;31mNameError\u001b[0m: name 'correct_clicksraw_data_test' is not defined"
     ]
    }
   ],
   "source": [
    "# scatter_plot_normal_con = sns.scatterplot(\n",
    "    # data = words_per_minute[words_per_minute[\"keyboard_type\"] == \"auto_complete\"],\n",
    "    # x = CONDITION,\n",
    "    # y = TASK_COMPLETION_TIME,\n",
    "# )\n",
    "# scatter_plot_normal_con.set(xlabel=CONDITION_LABEL + WITH_NORMAL, ylabel=TASK_COMPLETION_TIME_LABEL)\n",
    "# plt.show()"
   ]
  },
  {
   "cell_type": "code",
   "execution_count": null,
   "metadata": {},
   "outputs": [],
   "source": [
    "scatter_plot_novel_con = sns.scatterplot(\n",
    "    data = words_per_minute[words_per_minute[\"keyboard_type\"] == \"normal\"],\n",
    "    x = CONDITION,\n",
    "    y = TASK_COMPLETION_TIME,\n",
    ")\n",
    "scatter_plot_novel_con.set(xlabel=CONDITION_LABEL + WITH_NOVEL, ylabel=TASK_COMPLETION_TIME_LABEL)\n",
    "plt.show()"
   ]
  },
  {
   "cell_type": "code",
   "execution_count": null,
   "metadata": {},
   "outputs": [],
   "source": [
    "scatter_plot_normal_ids = sns.scatterplot(\n",
    "    data=correct_clicks[correct_clicks[POINTER_TYPE] == POINTER_NORMAL],\n",
    "    x=CONDITION,\n",
    "    y=TASK_COMPLETION_TIME,\n",
    "    hue=PARTICIPANT_ID,\n",
    ")\n",
    "scatter_plot_normal_ids.set(xlabel=CONDITION_LABEL + WITH_NORMAL, ylabel=TASK_COMPLETION_TIME_LABEL)\n",
    "plt.show()"
   ]
  },
  {
   "cell_type": "code",
   "execution_count": null,
   "metadata": {},
   "outputs": [],
   "source": [
    "scatter_plot_novel_ids = sns.scatterplot(\n",
    "    data=correct_clicks[correct_clicks[POINTER_TYPE] == POINTER_NOVEL],\n",
    "    x=CONDITION,\n",
    "    y=TASK_COMPLETION_TIME,\n",
    "    hue=PARTICIPANT_ID,\n",
    ")\n",
    "scatter_plot_novel_ids.set(xlabel=CONDITION_LABEL + WITH_NOVEL, ylabel=TASK_COMPLETION_TIME_LABEL)\n",
    "plt.show()"
   ]
  },
  {
   "cell_type": "markdown",
   "metadata": {},
   "source": [
    "### Swarm plots for task completion time"
   ]
  },
  {
   "cell_type": "code",
   "execution_count": null,
   "metadata": {},
   "outputs": [],
   "source": [
    "swarm_plot_con_normal = sns.swarmplot(\n",
    "    data=correct_clicks[correct_clicks[POINTER_TYPE] == POINTER_NORMAL],\n",
    "    y=TASK_COMPLETION_TIME,\n",
    "    x=CONDITION,\n",
    ")\n",
    "swarm_plot_con_normal.set(xlabel=CONDITION_LABEL + WITH_NORMAL, ylabel=TASK_COMPLETION_TIME_LABEL)\n",
    "\n",
    "plt.show()"
   ]
  },
  {
   "cell_type": "code",
   "execution_count": null,
   "metadata": {},
   "outputs": [],
   "source": [
    "swarm_plot_con_novel = sns.swarmplot(\n",
    "    data=correct_clicks[correct_clicks[POINTER_TYPE] == POINTER_NOVEL],\n",
    "    y=TASK_COMPLETION_TIME,\n",
    "    x=CONDITION,\n",
    ")\n",
    "swarm_plot_con_novel.set(xlabel=CONDITION_LABEL + WITH_NOVEL, ylabel=TASK_COMPLETION_TIME_LABEL)\n",
    "\n",
    "plt.show()"
   ]
  },
  {
   "cell_type": "code",
   "execution_count": null,
   "metadata": {},
   "outputs": [],
   "source": [
    "swarm_plot_pointer = sns.swarmplot(\n",
    "    data=correct_clicks,\n",
    "    y=TASK_COMPLETION_TIME,\n",
    "    x=POINTER_TYPE,\n",
    ")\n",
    "swarm_plot_pointer.set(xlabel=POINTER_LABEL, ylabel=TASK_COMPLETION_TIME_LABEL)\n",
    "\n",
    "plt.show()"
   ]
  },
  {
   "cell_type": "markdown",
   "metadata": {},
   "source": [
    "### Boxplots for task completion time"
   ]
  },
  {
   "cell_type": "code",
   "execution_count": null,
   "metadata": {},
   "outputs": [],
   "source": [
    "box_plot_con_normal = sns.boxplot(\n",
    "    data=correct_clicks[correct_clicks[POINTER_TYPE] == POINTER_NORMAL],\n",
    "    x=CONDITION,\n",
    "    y=TASK_COMPLETION_TIME\n",
    ")\n",
    "\n",
    "box_plot_con_normal.set(xlabel=CONDITION_LABEL + WITH_NORMAL, ylabel=TASK_COMPLETION_TIME_LABEL)\n",
    "\n",
    "plt.show()"
   ]
  },
  {
   "cell_type": "code",
   "execution_count": null,
   "metadata": {},
   "outputs": [],
   "source": [
    "box_plot_con_novel = sns.boxplot(\n",
    "    data=correct_clicks[correct_clicks[POINTER_TYPE] == POINTER_NOVEL],\n",
    "    x=CONDITION,\n",
    "    y=TASK_COMPLETION_TIME\n",
    ")\n",
    "\n",
    "box_plot_con_novel.set(xlabel=CONDITION_LABEL + WITH_NOVEL, ylabel=TASK_COMPLETION_TIME_LABEL)\n",
    "\n",
    "plt.show()"
   ]
  },
  {
   "cell_type": "code",
   "execution_count": null,
   "metadata": {},
   "outputs": [],
   "source": [
    "box_plot_con = sns.boxplot(\n",
    "    data=correct_clicks,\n",
    "    x=CONDITION,\n",
    "    y=TASK_COMPLETION_TIME\n",
    ")\n",
    "\n",
    "box_plot_con.set(xlabel=CONDITION_LABEL, ylabel=TASK_COMPLETION_TIME_LABEL)\n",
    "\n",
    "plt.show()"
   ]
  },
  {
   "cell_type": "code",
   "execution_count": null,
   "metadata": {},
   "outputs": [],
   "source": [
    "box_plot_pointer = sns.boxplot(\n",
    "    data=correct_clicks,\n",
    "    x=POINTER_TYPE,\n",
    "    y=TASK_COMPLETION_TIME\n",
    ")\n",
    "\n",
    "box_plot_pointer.set(xlabel=POINTER_LABEL, ylabel=TASK_COMPLETION_TIME_LABEL)\n",
    "plt.show()"
   ]
  },
  {
   "cell_type": "markdown",
   "metadata": {},
   "source": [
    "## T-test"
   ]
  },
  {
   "cell_type": "markdown",
   "metadata": {},
   "source": [
    "__Tests for variance homogeneity and normal distribution__"
   ]
  },
  {
   "cell_type": "code",
   "execution_count": null,
   "metadata": {},
   "outputs": [],
   "source": [
    "pg.homoscedasticity(data=correct_clicks, dv=TASK_COMPLETION_TIME, group=POINTER_TYPE, method=\"bartlett\")"
   ]
  },
  {
   "cell_type": "code",
   "execution_count": null,
   "metadata": {},
   "outputs": [],
   "source": [
    "pg.normality(data=correct_clicks, dv=TASK_COMPLETION_TIME, group=POINTER_TYPE)"
   ]
  },
  {
   "cell_type": "code",
   "execution_count": null,
   "metadata": {},
   "outputs": [],
   "source": [
    "pg.homoscedasticity(data=correct_clicks, dv=TASK_COMPLETION_TIME, group=CONDITION, method=\"bartlett\")"
   ]
  },
  {
   "cell_type": "code",
   "execution_count": null,
   "metadata": {},
   "outputs": [],
   "source": [
    "pg.normality(data=correct_clicks, dv=TASK_COMPLETION_TIME, group=CONDITION)"
   ]
  },
  {
   "cell_type": "markdown",
   "metadata": {},
   "source": [
    "No normal distribution for all, therefore use of Welch-Anova test"
   ]
  },
  {
   "cell_type": "code",
   "execution_count": null,
   "metadata": {},
   "outputs": [],
   "source": [
    "pg.welch_anova(data=correct_clicks, dv=TASK_COMPLETION_TIME, between=POINTER_TYPE)"
   ]
  },
  {
   "cell_type": "code",
   "execution_count": null,
   "metadata": {},
   "outputs": [],
   "source": [
    "pg.welch_anova(data=correct_clicks, dv=DISTANCE_TO_START_POSITION, between=POINTER_TYPE)"
   ]
  }
 ],
 "metadata": {
  "kernelspec": {
   "display_name": "Python 3",
   "language": "python",
   "name": "python3"
  },
  "language_info": {
   "codemirror_mode": {
    "name": "ipython",
    "version": 3
   },
   "file_extension": ".py",
   "mimetype": "text/x-python",
   "name": "python",
   "nbconvert_exporter": "python",
   "pygments_lexer": "ipython3",
   "version": "3.9.2"
  }
 },
 "nbformat": 4,
 "nbformat_minor": 1
}
